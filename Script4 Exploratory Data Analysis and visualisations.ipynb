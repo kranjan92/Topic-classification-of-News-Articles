{
 "cells": [
  {
   "cell_type": "code",
   "execution_count": null,
   "metadata": {},
   "outputs": [],
   "source": [
    "import nltk\n",
    "from nltk.corpus import stopwords\n",
    "from sklearn.datasets import fetch_20newsgroups\n",
    "from sklearn.datasets import load_files\n",
    "from nltk.stem import WordNetLemmatizer\n",
    "from nltk.stem import PorterStemmer\n",
    "from nltk.tokenize import word_tokenize\n",
    "from gensim.corpora import Dictionary\n",
    "from gensim.models import TfidfModel\n",
    "from wordcloud import WordCloud\n",
    "import numpy as np\n",
    "import re"
   ]
  },
  {
   "cell_type": "code",
   "execution_count": null,
   "metadata": {},
   "outputs": [],
   "source": [
    "# Importing the dataset\n",
    "categories = [\"comp.graphics\",\n",
    "              \"rec.sport.baseball\",\n",
    "              \"sci.electronics\",\n",
    "              \"talk.politics.guns\",\n",
    "              \"talk.religion.misc\"]"
   ]
  },
  {
   "cell_type": "code",
   "execution_count": null,
   "metadata": {},
   "outputs": [],
   "source": [
    "newsgroups = fetch_20newsgroups(subset='all', shuffle=True, random_state=42, categories = {categories[1]}, remove=('headers', 'footers', 'quotes'))\n",
    "\n",
    "#Store the  required data for later use                \n",
    "X,y,z = newsgroups.data,newsgroups.target, newsgroups.target_names"
   ]
  },
  {
   "cell_type": "code",
   "execution_count": null,
   "metadata": {},
   "outputs": [],
   "source": [
    "# Creating the corpus\n",
    "corpus = []\n",
    "for i in range(0, len(X)):\n",
    "    newsgroup = re.sub(r'\\W', ' ', str(X[i]))\n",
    "    newsgroup = newsgroup.lower()\n",
    "    newsgroup = re.sub(r'^br$', ' ', newsgroup)\n",
    "    newsgroup = re.sub(r'\\s+br\\s+',' ',newsgroup)\n",
    "    newsgroup = re.sub(r'\\s+[a-z]\\s+', ' ',newsgroup)\n",
    "    newsgroup = re.sub(r'[0-9]+', '', newsgroup)\n",
    "    newsgroup = re.sub(r'^b\\s+', '', newsgroup)\n",
    "    newsgroup = re.sub(r'\\s+', ' ', newsgroup)\n",
    "    newsgroup = re.sub(r'would', ' ', newsgroup)\n",
    "   \n",
    "    corpus.append(newsgroup)  \n",
    "     #  Initiating the Stemmer class \n",
    "stemmer = PorterStemmer()\n",
    "\n",
    "# Stemming\n",
    "for i in range(len(corpus)):\n",
    "    words = nltk.word_tokenize(corpus[i])\n",
    "    words = [stemmer.stem(word) for word in words]\n",
    "    corpus[i] = ' '.join(words) \n",
    "    \n",
    "#  Initiating the lemmatizer class\n",
    "lemmatizer = WordNetLemmatizer()\n",
    "\n",
    "# Lemmatization\n",
    "for i in range(len(corpus)):\n",
    "    words = nltk.word_tokenize(corpus[i])\n",
    "    words = [lemmatizer.lemmatize(word) for word in words]\n",
    "    corpus[i] = ' '.join(words) \n",
    "\n",
    "# Remove words with less than or equal to three letter's (doesn't make any sense)\n",
    "for i in range(len(corpus)):\n",
    "    words = nltk.word_tokenize(corpus[i])\n",
    "    words = [word for word in words if len(word)>3]\n",
    "    corpus[i] = ' '.join(words)\n"
   ]
  },
  {
   "cell_type": "code",
   "execution_count": null,
   "metadata": {},
   "outputs": [],
   "source": [
    "# Creating WordClouds\n",
    "\n",
    "text_doc = ''\n",
    " \n",
    "for i in range(len(corpus)): # Iterate over the files \n",
    "    # Extract tokens\n",
    "    text_doc = text_doc + corpus[i]\n",
    "\n",
    "wc = WordCloud(\n",
    "        background_color=\"Black\",\n",
    "        max_words=2000,\n",
    "        width = 1024,\n",
    "        height = 720,\n",
    "        stopwords=stopwords.words(\"english\")\n",
    "        )\n",
    "\n",
    "wc.generate_from_text(text_doc)\n",
    "     # Save the could to a file\n",
    "\n",
    "wc.to_file(\"word_sports.png\")    "
   ]
  },
  {
   "cell_type": "code",
   "execution_count": null,
   "metadata": {},
   "outputs": [],
   "source": [
    "\n",
    "# visulalisation Plots\n",
    "\n",
    "import numpy as np\n",
    "import matplotlib.pyplot as plt\n",
    " \n",
    "# data to plot\n",
    "n_groups = 2\n",
    "\n",
    "accuracy_filter_model = (82, 87)\n",
    "accuracy_hybrid_model = (81, 83)\n",
    " \n",
    "# create plot\n",
    "fig, ax = plt.subplots()\n",
    "index = np.arange(n_groups)\n",
    "bar_width = 0.2\n",
    "opacity = 0.7\n",
    " \n",
    "rects1 = plt.bar(index, accuracy_filter_model, bar_width,\n",
    "                 alpha=opacity,\n",
    "                 color='b',\n",
    "                 label='Filter Model (Tf-idf)')\n",
    " \n",
    "rects2 = plt.bar(index + bar_width, accuracy_hybrid_model, bar_width,\n",
    "                 alpha=opacity,\n",
    "                 color='g',\n",
    "                 label='Hybrid Model (BPSO)')\n",
    "\n",
    "plt.xlabel('Accuracy')\n",
    "plt.ylabel('Classifiers')\n",
    "#plt.title('Performance of filter and hybrid models for topic classification')\n",
    "plt.xticks(index + bar_width, ('Naive Bayes', 'MLP'))\n",
    "# Place a legend to the right of this smaller subplot.\n",
    "plt.legend(bbox_to_anchor=(1.05, 1), loc=2, borderaxespad=0.)\n",
    " \n",
    "plt.tight_layout()\n",
    "plt.show()"
   ]
  }
 ],
 "metadata": {
  "kernelspec": {
   "display_name": "Python 3",
   "language": "python",
   "name": "python3"
  },
  "language_info": {
   "codemirror_mode": {
    "name": "ipython",
    "version": 3
   },
   "file_extension": ".py",
   "mimetype": "text/x-python",
   "name": "python",
   "nbconvert_exporter": "python",
   "pygments_lexer": "ipython3",
   "version": "3.6.5"
  }
 },
 "nbformat": 4,
 "nbformat_minor": 2
}
